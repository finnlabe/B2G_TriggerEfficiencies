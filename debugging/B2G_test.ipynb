{
 "cells": [
  {
   "cell_type": "code",
   "execution_count": 3,
   "id": "dafc687a",
   "metadata": {},
   "outputs": [],
   "source": [
    "inputfilefile = \"inputfiles.txt\"\n",
    "refTriggerFile = \"refTriggers.txt\"\n",
    "testTriggerFile = \"testTriggers.txt\"\n",
    "era = \"22RunD\""
   ]
  },
  {
   "cell_type": "code",
   "execution_count": 8,
   "id": "3516e23a",
   "metadata": {},
   "outputs": [
    {
     "name": "stdout",
     "output_type": "stream",
     "text": [
      "Traceback (most recent call last):\r\n",
      "  File \"runTriggerEfficiencies.py\", line 1, in <module>\r\n",
      "    import coffea\r\n",
      "ImportError: No module named coffea\r\n"
     ]
    }
   ],
   "source": [
    "! python runTriggerEfficiencies.py inputfiles.txt 22RunD refTriggers.txt testTriggers.txt"
   ]
  },
  {
   "cell_type": "code",
   "execution_count": null,
   "id": "406ef57d",
   "metadata": {},
   "outputs": [],
   "source": []
  }
 ],
 "metadata": {
  "kernelspec": {
   "display_name": "new_pip_setup",
   "language": "python",
   "name": "new_pip_setup"
  },
  "language_info": {
   "codemirror_mode": {
    "name": "ipython",
    "version": 3
   },
   "file_extension": ".py",
   "mimetype": "text/x-python",
   "name": "python",
   "nbconvert_exporter": "python",
   "pygments_lexer": "ipython3",
   "version": "3.7.11"
  }
 },
 "nbformat": 4,
 "nbformat_minor": 5
}
