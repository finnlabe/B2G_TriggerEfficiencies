{
 "cells": [
  {
   "cell_type": "code",
   "execution_count": 1,
   "id": "80802951",
   "metadata": {},
   "outputs": [],
   "source": [
    "import numpy as np\n",
    "import matplotlib\n",
    "import matplotlib.pyplot as plt\n",
    "import mplhep as hep\n",
    "plt.style.use(hep.style.ROOT)\n",
    "#from sklearn.metrics import roc_curve, auc\n",
    "#from scipy import interpolate\n",
    "#import re"
   ]
  },
  {
   "cell_type": "code",
   "execution_count": 2,
   "id": "968a8b81",
   "metadata": {},
   "outputs": [],
   "source": [
    "variable_file = \"leading__AK8__pt.npy\"\n",
    "triggers = [\"AK8PFJet400_MassSD30\", \"AK8PFJet400_TrimMass30\"]"
   ]
  },
  {
   "cell_type": "code",
   "execution_count": 3,
   "id": "7d64fec5",
   "metadata": {},
   "outputs": [],
   "source": [
    "def plotHistograms(datas, variable, bins=100, range=(0,1000)):\n",
    "    \n",
    "    f, ax  = plt.subplots()\n",
    "    \n",
    "    for label in datas:\n",
    "        data = datas[label]\n",
    "        hist_data, hist_bins = np.histogram(data, bins=bins, range=range)\n",
    "        hep.histplot(hist_data, hist_bins,label=label, ax=ax)\n",
    "        \n",
    "    plt.yscale(\"log\")\n",
    "    plt.ylabel(\"events\")\n",
    "    plt.xlabel(variable)\n",
    "    plt.legend()\n",
    "    plt.show()"
   ]
  },
  {
   "cell_type": "code",
   "execution_count": 4,
   "id": "3070e2fc",
   "metadata": {},
   "outputs": [
    {
     "data": {
      "image/png": "[encoded data removed]",
      "text/plain": [
       "<Figure size 432x288 with 1 Axes>"
      ]
     },
     "metadata": {
      "needs_background": "light"
     },
     "output_type": "display_data"
    }
   ],
   "source": [
    "with open(variable_file, 'rb') as f: inputdata = np.load(f)\n",
    "\n",
    "# nominal data\n",
    "datas = {}\n",
    "datas[\"before triggers\"] = inputdata\n",
    "\n",
    "# fill after triggers\n",
    "for trigger in triggers:\n",
    "    \n",
    "    with open(trigger + \".npy\", 'rb') as f: triggerdata = np.load(f)\n",
    "    \n",
    "    datas[trigger] = inputdata[triggerdata]\n",
    "\n",
    "\n",
    "plotHistograms(datas, variable=r\"AK8 $p_{T}$\")"
   ]
  },
  {
   "cell_type": "code",
   "execution_count": null,
   "id": "a066c0ab",
   "metadata": {},
   "outputs": [],
   "source": []
  },
  {
   "cell_type": "code",
   "execution_count": null,
   "id": "529136aa",
   "metadata": {},
   "outputs": [],
   "source": []
  },
  {
   "cell_type": "code",
   "execution_count": null,
   "id": "802f2e5b",
   "metadata": {},
   "outputs": [],
   "source": []
  }
 ],
 "metadata": {
  "kernelspec": {
   "display_name": "new_pip_setup",
   "language": "python",
   "name": "new_pip_setup"
  },
  "language_info": {
   "codemirror_mode": {
    "name": "ipython",
    "version": 3
   },
   "file_extension": ".py",
   "mimetype": "text/x-python",
   "name": "python",
   "nbconvert_exporter": "python",
   "pygments_lexer": "ipython3",
   "version": "3.7.11"
  }
 },
 "nbformat": 4,
 "nbformat_minor": 5
}
